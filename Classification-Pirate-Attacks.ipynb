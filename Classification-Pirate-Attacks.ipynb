{
 "cells": [
  {
   "cell_type": "code",
   "execution_count": 1,
   "metadata": {
    "ExecuteTime": {
     "end_time": "2019-04-12T07:52:26.882301Z",
     "start_time": "2019-04-12T07:52:23.928124Z"
    }
   },
   "outputs": [],
   "source": [
    "from sklearn import model_selection\n",
    "from sklearn import preprocessing\n",
    "from sklearn import neighbors\n",
    "from sklearn import metrics\n",
    "from sklearn import naive_bayes\n",
    "from sklearn import svm\n",
    "import numpy as np\n",
    "import pandas as pd\n",
    "%matplotlib inline\n",
    "import matplotlib.pyplot as plt\n",
    "import seaborn as sns"
   ]
  },
  {
   "cell_type": "markdown",
   "metadata": {},
   "source": [
    "# Classify pirate attacks\n",
    "\n",
    "Use KNN, Naive Bayes and SVM on the Pirate Attacks dataset to predict pirate attack success:\n",
    "\n",
    "* Clean and preprocess data using a one-hot-encoder for categorical variables.\n",
    "* Run the three models on the data.\n",
    "* Which model is the best in predicting attacks?\n",
    "\n",
    "## Read data"
   ]
  },
  {
   "cell_type": "code",
   "execution_count": 2,
   "metadata": {
    "ExecuteTime": {
     "end_time": "2019-04-12T07:52:26.962089Z",
     "start_time": "2019-04-12T07:52:26.885294Z"
    }
   },
   "outputs": [
    {
     "data": {
      "text/html": [
       "<div>\n",
       "<style scoped>\n",
       "    .dataframe tbody tr th:only-of-type {\n",
       "        vertical-align: middle;\n",
       "    }\n",
       "\n",
       "    .dataframe tbody tr th {\n",
       "        vertical-align: top;\n",
       "    }\n",
       "\n",
       "    .dataframe thead th {\n",
       "        text-align: right;\n",
       "    }\n",
       "</style>\n",
       "<table border=\"1\" class=\"dataframe\">\n",
       "  <thead>\n",
       "    <tr style=\"text-align: right;\">\n",
       "      <th></th>\n",
       "      <th>DATETIME (LOCAL)</th>\n",
       "      <th>DATETIME (UTC)</th>\n",
       "      <th>DATE (LT)</th>\n",
       "      <th>DATE (UTC)</th>\n",
       "      <th>REGION</th>\n",
       "      <th>COUNTRY</th>\n",
       "      <th>INCIDENT TYPE</th>\n",
       "      <th>VESSEL TYPE</th>\n",
       "      <th>MAERSK?</th>\n",
       "      <th>VESSEL ACTIVITY LOCATION</th>\n",
       "      <th>LAT</th>\n",
       "      <th>LONG</th>\n",
       "      <th>TIMEZONE</th>\n",
       "      <th>TIME OF DAY</th>\n",
       "      <th>ATTACKS</th>\n",
       "      <th>ATTACK SUCCESS</th>\n",
       "    </tr>\n",
       "  </thead>\n",
       "  <tbody>\n",
       "    <tr>\n",
       "      <th>1</th>\n",
       "      <td>2016-01-30 23:34:00</td>\n",
       "      <td>2016-01-30 22:34:00</td>\n",
       "      <td>2016-01-30</td>\n",
       "      <td>2016-01-30</td>\n",
       "      <td>WEST AFRICA</td>\n",
       "      <td>NIGERIA</td>\n",
       "      <td>FAILED ATTACK, HIJACKING</td>\n",
       "      <td>CONTAINER SHIP</td>\n",
       "      <td>0</td>\n",
       "      <td>OFF SHORE</td>\n",
       "      <td>3.000000</td>\n",
       "      <td>6.250000</td>\n",
       "      <td>Africa/Lagos</td>\n",
       "      <td>EVENING</td>\n",
       "      <td>1</td>\n",
       "      <td>0</td>\n",
       "    </tr>\n",
       "    <tr>\n",
       "      <th>2</th>\n",
       "      <td>2016-01-29 23:40:00</td>\n",
       "      <td>2016-01-29 22:40:00</td>\n",
       "      <td>2016-01-29</td>\n",
       "      <td>2016-01-29</td>\n",
       "      <td>WEST AFRICA</td>\n",
       "      <td>NIGERIA</td>\n",
       "      <td>KIDNAP/RANSOM AT SEA</td>\n",
       "      <td>PRODUCT TANKER</td>\n",
       "      <td>0</td>\n",
       "      <td>OFF SHORE</td>\n",
       "      <td>2.500000</td>\n",
       "      <td>5.750000</td>\n",
       "      <td>Africa/Lagos</td>\n",
       "      <td>EVENING</td>\n",
       "      <td>1</td>\n",
       "      <td>1</td>\n",
       "    </tr>\n",
       "    <tr>\n",
       "      <th>3</th>\n",
       "      <td>2016-01-28 03:00:00</td>\n",
       "      <td>2016-01-28 02:00:00</td>\n",
       "      <td>2016-01-28</td>\n",
       "      <td>2016-01-28</td>\n",
       "      <td>SOUTH ASIA</td>\n",
       "      <td>INDIA</td>\n",
       "      <td>FAILED ATTACK, ROBBERY</td>\n",
       "      <td>PRODUCT TANKER</td>\n",
       "      <td>0</td>\n",
       "      <td>ANCHORAGE</td>\n",
       "      <td>22.816667</td>\n",
       "      <td>70.116667</td>\n",
       "      <td>Asia/Kolkata</td>\n",
       "      <td>NIGHT</td>\n",
       "      <td>1</td>\n",
       "      <td>0</td>\n",
       "    </tr>\n",
       "    <tr>\n",
       "      <th>4</th>\n",
       "      <td>NaN</td>\n",
       "      <td>NaN</td>\n",
       "      <td>2016-01-27</td>\n",
       "      <td>2016-01-27</td>\n",
       "      <td>HORN OF AFRICA/ GULF OF ADEN</td>\n",
       "      <td>SOMALIA</td>\n",
       "      <td>SUSPICIOUS ACTIVITY AT SEA</td>\n",
       "      <td>NaN</td>\n",
       "      <td>0</td>\n",
       "      <td>OFF SHORE</td>\n",
       "      <td>13.998747</td>\n",
       "      <td>54.112792</td>\n",
       "      <td>Asia/Riyadh</td>\n",
       "      <td>UNKNOWN</td>\n",
       "      <td>1</td>\n",
       "      <td>0</td>\n",
       "    </tr>\n",
       "    <tr>\n",
       "      <th>5</th>\n",
       "      <td>2016-01-25 23:55:00</td>\n",
       "      <td>2016-01-25 22:55:00</td>\n",
       "      <td>2016-01-25</td>\n",
       "      <td>2016-01-25</td>\n",
       "      <td>SOUTH AMERICA</td>\n",
       "      <td>VENEZUELA</td>\n",
       "      <td>THEFT AT ANCHORAGE</td>\n",
       "      <td>GENERAL CARGO VESSEL</td>\n",
       "      <td>0</td>\n",
       "      <td>ANCHORAGE</td>\n",
       "      <td>10.267500</td>\n",
       "      <td>-63.432500</td>\n",
       "      <td>America/Caracas</td>\n",
       "      <td>EVENING</td>\n",
       "      <td>1</td>\n",
       "      <td>1</td>\n",
       "    </tr>\n",
       "  </tbody>\n",
       "</table>\n",
       "</div>"
      ],
      "text/plain": [
       "      DATETIME (LOCAL)       DATETIME (UTC)   DATE (LT)  DATE (UTC)  \\\n",
       "1  2016-01-30 23:34:00  2016-01-30 22:34:00  2016-01-30  2016-01-30   \n",
       "2  2016-01-29 23:40:00  2016-01-29 22:40:00  2016-01-29  2016-01-29   \n",
       "3  2016-01-28 03:00:00  2016-01-28 02:00:00  2016-01-28  2016-01-28   \n",
       "4                  NaN                  NaN  2016-01-27  2016-01-27   \n",
       "5  2016-01-25 23:55:00  2016-01-25 22:55:00  2016-01-25  2016-01-25   \n",
       "\n",
       "                         REGION    COUNTRY               INCIDENT TYPE  \\\n",
       "1                   WEST AFRICA    NIGERIA    FAILED ATTACK, HIJACKING   \n",
       "2                   WEST AFRICA    NIGERIA        KIDNAP/RANSOM AT SEA   \n",
       "3                    SOUTH ASIA      INDIA      FAILED ATTACK, ROBBERY   \n",
       "4  HORN OF AFRICA/ GULF OF ADEN    SOMALIA  SUSPICIOUS ACTIVITY AT SEA   \n",
       "5                 SOUTH AMERICA  VENEZUELA          THEFT AT ANCHORAGE   \n",
       "\n",
       "            VESSEL TYPE  MAERSK? VESSEL ACTIVITY LOCATION        LAT  \\\n",
       "1        CONTAINER SHIP        0                OFF SHORE   3.000000   \n",
       "2        PRODUCT TANKER        0                OFF SHORE   2.500000   \n",
       "3        PRODUCT TANKER        0                ANCHORAGE  22.816667   \n",
       "4                   NaN        0                OFF SHORE  13.998747   \n",
       "5  GENERAL CARGO VESSEL        0                ANCHORAGE  10.267500   \n",
       "\n",
       "        LONG         TIMEZONE TIME OF DAY  ATTACKS  ATTACK SUCCESS  \n",
       "1   6.250000     Africa/Lagos     EVENING        1               0  \n",
       "2   5.750000     Africa/Lagos     EVENING        1               1  \n",
       "3  70.116667     Asia/Kolkata       NIGHT        1               0  \n",
       "4  54.112792      Asia/Riyadh     UNKNOWN        1               0  \n",
       "5 -63.432500  America/Caracas     EVENING        1               1  "
      ]
     },
     "execution_count": 2,
     "metadata": {},
     "output_type": "execute_result"
    }
   ],
   "source": [
    "attacks = pd.read_csv('pirate-attacks.csv', index_col=0)\n",
    "attacks.head()"
   ]
  },
  {
   "cell_type": "code",
   "execution_count": 3,
   "metadata": {
    "ExecuteTime": {
     "end_time": "2019-04-12T07:52:26.995002Z",
     "start_time": "2019-04-12T07:52:26.972064Z"
    },
    "scrolled": false
   },
   "outputs": [
    {
     "name": "stdout",
     "output_type": "stream",
     "text": [
      "<class 'pandas.core.frame.DataFrame'>\n",
      "Int64Index: 802 entries, 1 to 802\n",
      "Data columns (total 16 columns):\n",
      "DATETIME (LOCAL)            582 non-null object\n",
      "DATETIME (UTC)              582 non-null object\n",
      "DATE (LT)                   802 non-null object\n",
      "DATE (UTC)                  802 non-null object\n",
      "REGION                      802 non-null object\n",
      "COUNTRY                     802 non-null object\n",
      "INCIDENT TYPE               802 non-null object\n",
      "VESSEL TYPE                 638 non-null object\n",
      "MAERSK?                     802 non-null int64\n",
      "VESSEL ACTIVITY LOCATION    676 non-null object\n",
      "LAT                         802 non-null float64\n",
      "LONG                        802 non-null float64\n",
      "TIMEZONE                    802 non-null object\n",
      "TIME OF DAY                 802 non-null object\n",
      "ATTACKS                     802 non-null int64\n",
      "ATTACK SUCCESS              802 non-null int64\n",
      "dtypes: float64(2), int64(3), object(11)\n",
      "memory usage: 106.5+ KB\n"
     ]
    }
   ],
   "source": [
    "attacks.info()"
   ]
  },
  {
   "cell_type": "code",
   "execution_count": 4,
   "metadata": {
    "ExecuteTime": {
     "end_time": "2019-04-12T07:52:27.011968Z",
     "start_time": "2019-04-12T07:52:27.001982Z"
    }
   },
   "outputs": [
    {
     "data": {
      "text/plain": [
       "1    500\n",
       "0    302\n",
       "Name: ATTACK SUCCESS, dtype: int64"
      ]
     },
     "execution_count": 4,
     "metadata": {},
     "output_type": "execute_result"
    }
   ],
   "source": [
    "attacks['ATTACK SUCCESS'].value_counts()"
   ]
  },
  {
   "cell_type": "code",
   "execution_count": 5,
   "metadata": {
    "ExecuteTime": {
     "end_time": "2019-04-12T07:52:27.031902Z",
     "start_time": "2019-04-12T07:52:27.016942Z"
    }
   },
   "outputs": [
    {
     "data": {
      "text/plain": [
       "1    802\n",
       "Name: ATTACKS, dtype: int64"
      ]
     },
     "execution_count": 5,
     "metadata": {},
     "output_type": "execute_result"
    }
   ],
   "source": [
    "attacks['ATTACKS'].value_counts()"
   ]
  },
  {
   "cell_type": "code",
   "execution_count": 6,
   "metadata": {
    "ExecuteTime": {
     "end_time": "2019-04-12T07:52:27.048865Z",
     "start_time": "2019-04-12T07:52:27.035892Z"
    }
   },
   "outputs": [
    {
     "data": {
      "text/plain": [
       "0    794\n",
       "1      8\n",
       "Name: MAERSK?, dtype: int64"
      ]
     },
     "execution_count": 6,
     "metadata": {},
     "output_type": "execute_result"
    }
   ],
   "source": [
    "attacks['MAERSK?'].value_counts()"
   ]
  },
  {
   "cell_type": "code",
   "execution_count": 7,
   "metadata": {
    "ExecuteTime": {
     "end_time": "2019-04-12T07:52:27.075785Z",
     "start_time": "2019-04-12T07:52:27.052847Z"
    }
   },
   "outputs": [
    {
     "data": {
      "text/plain": [
       "UNKNOWN    178\n",
       "MORNING     25\n",
       "EVENING     17\n",
       "Name: TIME OF DAY, dtype: int64"
      ]
     },
     "execution_count": 7,
     "metadata": {},
     "output_type": "execute_result"
    }
   ],
   "source": [
    "attacks.loc[pd.isnull(attacks['DATETIME (LOCAL)']), 'TIME OF DAY'].value_counts()"
   ]
  },
  {
   "cell_type": "markdown",
   "metadata": {},
   "source": [
    "## Harmless preprocessing\n",
    "\n",
    "In a first instance, we will perform some pre-processing steps not depending on the distribution of the data or patterns found in the data.\n",
    "\n",
    "* Delete column `DATETIME (UTC)` as it is essentially repeating information found in column `DATETIME (LOCAL)`\n",
    "* Replace column `DATETIME (LOCAL)` by `ATTACK HOUR`, i.e. the hour at which the attack took place in order not to repeat information contained in column `DATE (LT)`\n",
    "* Whenever possible, fill NA `ATTACK HOUR` by the mean hour of the time of day the attack took place\n",
    "* Delete column `DATE (UTC)` as it is essentially repeating information found in column `DATE (LT)`\n",
    "* Delete column `INCIDENT TYPE` as it leaks information on whether the attack was succesful (incident type is known only after the incident has taken place\n",
    "* Delete column `ATTACKS` as it always equal to one\n",
    "* Create a `ATTACK MONTH` column (since we want to predict the future, we should not use year as feature)\n",
    "* Create a `ATTACK WEEKDAY` column\n",
    "* Reduce the number of vessel types, countries and timezones\n",
    "* Replace `UNKNOWN` by `NaN`."
   ]
  },
  {
   "cell_type": "code",
   "execution_count": 8,
   "metadata": {
    "ExecuteTime": {
     "end_time": "2019-04-12T07:52:27.178509Z",
     "start_time": "2019-04-12T07:52:27.080770Z"
    }
   },
   "outputs": [
    {
     "data": {
      "text/html": [
       "<div>\n",
       "<style scoped>\n",
       "    .dataframe tbody tr th:only-of-type {\n",
       "        vertical-align: middle;\n",
       "    }\n",
       "\n",
       "    .dataframe tbody tr th {\n",
       "        vertical-align: top;\n",
       "    }\n",
       "\n",
       "    .dataframe thead th {\n",
       "        text-align: right;\n",
       "    }\n",
       "</style>\n",
       "<table border=\"1\" class=\"dataframe\">\n",
       "  <thead>\n",
       "    <tr style=\"text-align: right;\">\n",
       "      <th></th>\n",
       "      <th>DATE (LT)</th>\n",
       "      <th>REGION</th>\n",
       "      <th>COUNTRY</th>\n",
       "      <th>VESSEL TYPE</th>\n",
       "      <th>MAERSK?</th>\n",
       "      <th>VESSEL ACTIVITY LOCATION</th>\n",
       "      <th>LAT</th>\n",
       "      <th>LONG</th>\n",
       "      <th>TIMEZONE</th>\n",
       "      <th>TIME OF DAY</th>\n",
       "      <th>ATTACK SUCCESS</th>\n",
       "      <th>ATTACK HOUR</th>\n",
       "      <th>ATTACK MONTH</th>\n",
       "      <th>ATTACK WEEKDAY</th>\n",
       "    </tr>\n",
       "  </thead>\n",
       "  <tbody>\n",
       "    <tr>\n",
       "      <th>1</th>\n",
       "      <td>2016-01-30</td>\n",
       "      <td>WEST AFRICA</td>\n",
       "      <td>NIGERIA</td>\n",
       "      <td>CONTAINER SHIP</td>\n",
       "      <td>0</td>\n",
       "      <td>OFF SHORE</td>\n",
       "      <td>3.000000</td>\n",
       "      <td>6.250000</td>\n",
       "      <td>Africa/Lagos</td>\n",
       "      <td>EVENING</td>\n",
       "      <td>0</td>\n",
       "      <td>23.0</td>\n",
       "      <td>1</td>\n",
       "      <td>5</td>\n",
       "    </tr>\n",
       "    <tr>\n",
       "      <th>2</th>\n",
       "      <td>2016-01-29</td>\n",
       "      <td>WEST AFRICA</td>\n",
       "      <td>NIGERIA</td>\n",
       "      <td>PRODUCT TANKER</td>\n",
       "      <td>0</td>\n",
       "      <td>OFF SHORE</td>\n",
       "      <td>2.500000</td>\n",
       "      <td>5.750000</td>\n",
       "      <td>Africa/Lagos</td>\n",
       "      <td>EVENING</td>\n",
       "      <td>1</td>\n",
       "      <td>23.0</td>\n",
       "      <td>1</td>\n",
       "      <td>4</td>\n",
       "    </tr>\n",
       "    <tr>\n",
       "      <th>3</th>\n",
       "      <td>2016-01-28</td>\n",
       "      <td>SOUTH ASIA</td>\n",
       "      <td>INDIA</td>\n",
       "      <td>PRODUCT TANKER</td>\n",
       "      <td>0</td>\n",
       "      <td>ANCHORAGE</td>\n",
       "      <td>22.816667</td>\n",
       "      <td>70.116667</td>\n",
       "      <td>Asia/Kolkata</td>\n",
       "      <td>NIGHT</td>\n",
       "      <td>0</td>\n",
       "      <td>3.0</td>\n",
       "      <td>1</td>\n",
       "      <td>3</td>\n",
       "    </tr>\n",
       "    <tr>\n",
       "      <th>4</th>\n",
       "      <td>2016-01-27</td>\n",
       "      <td>HORN OF AFRICA/ GULF OF ADEN</td>\n",
       "      <td>OTHER</td>\n",
       "      <td>NaN</td>\n",
       "      <td>0</td>\n",
       "      <td>OFF SHORE</td>\n",
       "      <td>13.998747</td>\n",
       "      <td>54.112792</td>\n",
       "      <td>Asia/Riyadh</td>\n",
       "      <td>UNKNOWN</td>\n",
       "      <td>0</td>\n",
       "      <td>NaN</td>\n",
       "      <td>1</td>\n",
       "      <td>2</td>\n",
       "    </tr>\n",
       "    <tr>\n",
       "      <th>5</th>\n",
       "      <td>2016-01-25</td>\n",
       "      <td>SOUTH AMERICA</td>\n",
       "      <td>OTHER</td>\n",
       "      <td>GENERAL CARGO VESSEL</td>\n",
       "      <td>0</td>\n",
       "      <td>ANCHORAGE</td>\n",
       "      <td>10.267500</td>\n",
       "      <td>-63.432500</td>\n",
       "      <td>OTHER</td>\n",
       "      <td>EVENING</td>\n",
       "      <td>1</td>\n",
       "      <td>23.0</td>\n",
       "      <td>1</td>\n",
       "      <td>0</td>\n",
       "    </tr>\n",
       "  </tbody>\n",
       "</table>\n",
       "</div>"
      ],
      "text/plain": [
       "   DATE (LT)                        REGION  COUNTRY           VESSEL TYPE  \\\n",
       "1 2016-01-30                   WEST AFRICA  NIGERIA        CONTAINER SHIP   \n",
       "2 2016-01-29                   WEST AFRICA  NIGERIA        PRODUCT TANKER   \n",
       "3 2016-01-28                    SOUTH ASIA    INDIA        PRODUCT TANKER   \n",
       "4 2016-01-27  HORN OF AFRICA/ GULF OF ADEN    OTHER                   NaN   \n",
       "5 2016-01-25                 SOUTH AMERICA    OTHER  GENERAL CARGO VESSEL   \n",
       "\n",
       "   MAERSK? VESSEL ACTIVITY LOCATION        LAT       LONG      TIMEZONE  \\\n",
       "1        0                OFF SHORE   3.000000   6.250000  Africa/Lagos   \n",
       "2        0                OFF SHORE   2.500000   5.750000  Africa/Lagos   \n",
       "3        0                ANCHORAGE  22.816667  70.116667  Asia/Kolkata   \n",
       "4        0                OFF SHORE  13.998747  54.112792   Asia/Riyadh   \n",
       "5        0                ANCHORAGE  10.267500 -63.432500         OTHER   \n",
       "\n",
       "  TIME OF DAY  ATTACK SUCCESS  ATTACK HOUR  ATTACK MONTH  ATTACK WEEKDAY  \n",
       "1     EVENING               0         23.0             1               5  \n",
       "2     EVENING               1         23.0             1               4  \n",
       "3       NIGHT               0          3.0             1               3  \n",
       "4     UNKNOWN               0          NaN             1               2  \n",
       "5     EVENING               1         23.0             1               0  "
      ]
     },
     "execution_count": 8,
     "metadata": {},
     "output_type": "execute_result"
    }
   ],
   "source": [
    "attacks_clean = attacks.copy()\n",
    "\n",
    "# Convert to datetime, extract hour, month and weekday\n",
    "attacks_clean['DATE (LT)'] = pd.to_datetime(attacks_clean['DATE (LT)'])\n",
    "attacks_clean['DATETIME (LOCAL)'] = pd.to_datetime(attacks_clean['DATETIME (LOCAL)'])\n",
    "attacks_clean['ATTACK HOUR'] = attacks_clean['DATETIME (LOCAL)'].dt.hour\n",
    "attacks_clean['ATTACK MONTH'] = attacks_clean['DATE (LT)'].dt.month\n",
    "attacks_clean['ATTACK WEEKDAY'] = attacks_clean['DATE (LT)'].dt.weekday\n",
    "\n",
    "# Delete certain columns\n",
    "cols_to_delete = ['DATETIME (UTC)','DATETIME (LOCAL)','DATE (UTC)','INCIDENT TYPE','ATTACKS']\n",
    "attacks_clean.drop(columns=cols_to_delete, inplace=True)\n",
    "\n",
    "# Reduce number of unique vessel types, countries and timezones\n",
    "def other_out(col):\n",
    "    count = attacks_clean[col].value_counts()\n",
    "    rare = count[count<20]\n",
    "    rare = list(rare.index)\n",
    "    attacks_clean[col] = attacks_clean[col].replace(rare,'OTHER')\n",
    "other_out('VESSEL TYPE')\n",
    "other_out('COUNTRY')\n",
    "other_out('TIMEZONE')\n",
    "\n",
    "attacks_clean.head()"
   ]
  },
  {
   "cell_type": "code",
   "execution_count": 9,
   "metadata": {
    "ExecuteTime": {
     "end_time": "2019-04-12T07:52:27.234368Z",
     "start_time": "2019-04-12T07:52:27.184495Z"
    },
    "scrolled": true
   },
   "outputs": [
    {
     "name": "stdout",
     "output_type": "stream",
     "text": [
      "<class 'pandas.core.frame.DataFrame'>\n",
      "Int64Index: 802 entries, 1 to 802\n",
      "Data columns (total 14 columns):\n",
      "DATE (LT)                   802 non-null datetime64[ns]\n",
      "REGION                      802 non-null object\n",
      "COUNTRY                     802 non-null object\n",
      "VESSEL TYPE                 638 non-null object\n",
      "MAERSK?                     802 non-null int64\n",
      "VESSEL ACTIVITY LOCATION    676 non-null object\n",
      "LAT                         802 non-null float64\n",
      "LONG                        802 non-null float64\n",
      "TIMEZONE                    802 non-null object\n",
      "TIME OF DAY                 624 non-null object\n",
      "ATTACK SUCCESS              802 non-null int64\n",
      "ATTACK HOUR                 624 non-null float64\n",
      "ATTACK MONTH                802 non-null int64\n",
      "ATTACK WEEKDAY              802 non-null int64\n",
      "dtypes: datetime64[ns](1), float64(3), int64(4), object(6)\n",
      "memory usage: 94.0+ KB\n"
     ]
    }
   ],
   "source": [
    "# Replace attack hour by mean morning hour when attack takes place in morning\n",
    "attacks_clean.loc[(attacks_clean['TIME OF DAY']=='MORNING') & (pd.isnull(attacks_clean['ATTACK HOUR'])), 'ATTACK HOUR'] \\\n",
    "= round(attacks_clean.loc[attacks_clean['TIME OF DAY'] == 'MORNING', 'ATTACK HOUR'].mean(),0)\n",
    "\n",
    "# Replace attack hour by mean evening hour when attack takes place in the evening\n",
    "attacks_clean.loc[(attacks_clean['TIME OF DAY']=='EVENING') & (pd.isnull(attacks_clean['ATTACK HOUR'])), 'ATTACK HOUR'] \\\n",
    "= round(attacks_clean.loc[attacks_clean['TIME OF DAY'] == 'EVENING', 'ATTACK HOUR'].mean(),0)\n",
    "\n",
    "# Replace UNKNOWNs by NaN\n",
    "attacks_clean.loc[attacks_clean['TIME OF DAY']=='UNKNOWN', 'TIME OF DAY'] = None\n",
    "attacks_clean.loc[attacks_clean['VESSEL TYPE']=='UNKNOWN', 'VESSEL TYPE'] = None\n",
    "\n",
    "attacks_clean.info()"
   ]
  },
  {
   "cell_type": "markdown",
   "metadata": {},
   "source": [
    "## Split the data into train and test"
   ]
  },
  {
   "cell_type": "code",
   "execution_count": 10,
   "metadata": {
    "ExecuteTime": {
     "end_time": "2019-04-12T07:52:27.249321Z",
     "start_time": "2019-04-12T07:52:27.238349Z"
    }
   },
   "outputs": [
    {
     "data": {
      "text/plain": [
       "((641, 14), (161, 14))"
      ]
     },
     "execution_count": 10,
     "metadata": {},
     "output_type": "execute_result"
    }
   ],
   "source": [
    "train_set, test_set = model_selection.train_test_split(attacks_clean, test_size=0.2, random_state=25)\n",
    "train_set.shape, test_set.shape"
   ]
  },
  {
   "cell_type": "markdown",
   "metadata": {},
   "source": [
    "## Exploratory data analysis\n",
    "\n",
    "I create a dataset where successes and failures are balanced in order to more easily compare counts (rather than calculate proportions every time)."
   ]
  },
  {
   "cell_type": "code",
   "execution_count": 11,
   "metadata": {
    "ExecuteTime": {
     "end_time": "2019-04-12T07:52:27.269276Z",
     "start_time": "2019-04-12T07:52:27.253311Z"
    }
   },
   "outputs": [
    {
     "data": {
      "text/plain": [
       "1    399\n",
       "0    242\n",
       "Name: ATTACK SUCCESS, dtype: int64"
      ]
     },
     "execution_count": 11,
     "metadata": {},
     "output_type": "execute_result"
    }
   ],
   "source": [
    "train_set['ATTACK SUCCESS'].value_counts()"
   ]
  },
  {
   "cell_type": "code",
   "execution_count": 12,
   "metadata": {
    "ExecuteTime": {
     "end_time": "2019-04-12T07:52:27.305171Z",
     "start_time": "2019-04-12T07:52:27.272260Z"
    }
   },
   "outputs": [
    {
     "data": {
      "text/plain": [
       "1    242\n",
       "0    242\n",
       "Name: ATTACK SUCCESS, dtype: int64"
      ]
     },
     "execution_count": 12,
     "metadata": {},
     "output_type": "execute_result"
    }
   ],
   "source": [
    "train_set_success = train_set[train_set['ATTACK SUCCESS']==1]\n",
    "train_set_failure = train_set[train_set['ATTACK SUCCESS']==0]\n",
    "train_set_success = train_set_success.sample(train_set['ATTACK SUCCESS'].value_counts()[0], replace=False)\n",
    "train_eda = pd.concat([train_set_success, train_set_failure], sort=False)\n",
    "train_eda['ATTACK SUCCESS'].value_counts()"
   ]
  },
  {
   "cell_type": "code",
   "execution_count": 13,
   "metadata": {
    "ExecuteTime": {
     "end_time": "2019-04-12T07:52:27.690141Z",
     "start_time": "2019-04-12T07:52:27.308165Z"
    }
   },
   "outputs": [
    {
     "data": {
      "text/plain": [
       "<seaborn.axisgrid.FacetGrid at 0x2a2dd8b4080>"
      ]
     },
     "execution_count": 13,
     "metadata": {},
     "output_type": "execute_result"
    },
    {
     "data": {
      "image/png": "[encoded data removed]",
      "text/plain": [
       "<Figure size 720x360 with 2 Axes>"
      ]
     },
     "metadata": {},
     "output_type": "display_data"
    }
   ],
   "source": [
    "sns.catplot('ATTACK HOUR', data=train_set, col='ATTACK SUCCESS', kind=\"box\")"
   ]
  },
  {
   "cell_type": "code",
   "execution_count": 14,
   "metadata": {
    "ExecuteTime": {
     "end_time": "2019-04-12T07:52:28.011283Z",
     "start_time": "2019-04-12T07:52:27.693134Z"
    },
    "scrolled": true
   },
   "outputs": [
    {
     "data": {
      "image/png": "[encoded data removed]",
      "text/plain": [
       "<Figure size 864x360 with 1 Axes>"
      ]
     },
     "metadata": {},
     "output_type": "display_data"
    }
   ],
   "source": [
    "fig, ax = plt.subplots(figsize=(12, 5))\n",
    "pd.crosstab(train_eda['COUNTRY'], train_eda['ATTACK SUCCESS']).plot(kind='bar', stacked=False, ax=ax);"
   ]
  },
  {
   "cell_type": "code",
   "execution_count": 15,
   "metadata": {
    "ExecuteTime": {
     "end_time": "2019-04-12T07:52:28.367363Z",
     "start_time": "2019-04-12T07:52:28.015274Z"
    },
    "scrolled": false
   },
   "outputs": [
    {
     "data": {
      "image/png": "[encoded data removed]",
      "text/plain": [
       "<Figure size 864x360 with 1 Axes>"
      ]
     },
     "metadata": {},
     "output_type": "display_data"
    }
   ],
   "source": [
    "fig, ax = plt.subplots(figsize=(12, 5))\n",
    "pd.crosstab(train_eda['ATTACK MONTH'], train_eda['ATTACK SUCCESS']).plot(kind='bar', stacked=False, ax=ax);"
   ]
  },
  {
   "cell_type": "code",
   "execution_count": 16,
   "metadata": {
    "ExecuteTime": {
     "end_time": "2019-04-12T07:52:28.650582Z",
     "start_time": "2019-04-12T07:52:28.371356Z"
    },
    "scrolled": false
   },
   "outputs": [
    {
     "data": {
      "image/png": "[encoded data removed]",
      "text/plain": [
       "<Figure size 864x360 with 1 Axes>"
      ]
     },
     "metadata": {},
     "output_type": "display_data"
    }
   ],
   "source": [
    "fig, ax = plt.subplots(figsize=(12, 5))\n",
    "pd.crosstab(train_eda['ATTACK WEEKDAY'], train_eda['ATTACK SUCCESS']).plot(kind='bar', stacked=False, ax=ax);"
   ]
  },
  {
   "cell_type": "code",
   "execution_count": 17,
   "metadata": {
    "ExecuteTime": {
     "end_time": "2019-04-12T07:52:28.951775Z",
     "start_time": "2019-04-12T07:52:28.653568Z"
    }
   },
   "outputs": [
    {
     "data": {
      "image/png": "[encoded data removed]",
      "text/plain": [
       "<Figure size 864x360 with 1 Axes>"
      ]
     },
     "metadata": {},
     "output_type": "display_data"
    }
   ],
   "source": [
    "fig, ax = plt.subplots(figsize=(12, 5))\n",
    "pd.crosstab(train_eda['VESSEL ACTIVITY LOCATION'], train_eda['ATTACK SUCCESS']).plot(kind='bar', stacked=False, ax=ax);"
   ]
  },
  {
   "cell_type": "code",
   "execution_count": 18,
   "metadata": {
    "ExecuteTime": {
     "end_time": "2019-04-12T07:52:29.295849Z",
     "start_time": "2019-04-12T07:52:28.954760Z"
    },
    "scrolled": true
   },
   "outputs": [
    {
     "data": {
      "image/png": "[encoded data removed]",
      "text/plain": [
       "<Figure size 864x360 with 1 Axes>"
      ]
     },
     "metadata": {},
     "output_type": "display_data"
    }
   ],
   "source": [
    "fig, ax = plt.subplots(figsize=(12, 5))\n",
    "pd.crosstab(train_eda['VESSEL TYPE'], train_eda['ATTACK SUCCESS']).plot(kind='bar', stacked=False, ax=ax);"
   ]
  },
  {
   "cell_type": "markdown",
   "metadata": {},
   "source": [
    "The type of vessel seems to be highly relevant as some types lead to either high rates of success or failures."
   ]
  },
  {
   "cell_type": "code",
   "execution_count": 19,
   "metadata": {
    "ExecuteTime": {
     "end_time": "2019-04-12T07:52:29.569116Z",
     "start_time": "2019-04-12T07:52:29.300835Z"
    }
   },
   "outputs": [
    {
     "data": {
      "image/png": "[encoded data removed]",
      "text/plain": [
       "<Figure size 432x288 with 1 Axes>"
      ]
     },
     "metadata": {},
     "output_type": "display_data"
    }
   ],
   "source": [
    "sns.distplot(train_eda[train_eda['ATTACK SUCCESS']==1]['LONG'])\n",
    "sns.distplot(train_eda[train_eda['ATTACK SUCCESS']==0]['LONG']);"
   ]
  },
  {
   "cell_type": "code",
   "execution_count": 20,
   "metadata": {
    "ExecuteTime": {
     "end_time": "2019-04-12T07:52:29.852397Z",
     "start_time": "2019-04-12T07:52:29.572109Z"
    },
    "scrolled": true
   },
   "outputs": [
    {
     "data": {
      "image/png": "[encoded data removed]",
      "text/plain": [
       "<Figure size 432x288 with 1 Axes>"
      ]
     },
     "metadata": {},
     "output_type": "display_data"
    }
   ],
   "source": [
    "sns.distplot(train_eda[train_eda['ATTACK SUCCESS']==1]['LAT'], bins=20)\n",
    "sns.distplot(train_eda[train_eda['ATTACK SUCCESS']==0]['LAT'], bins=20);"
   ]
  },
  {
   "cell_type": "code",
   "execution_count": 21,
   "metadata": {
    "ExecuteTime": {
     "end_time": "2019-04-12T07:52:29.883277Z",
     "start_time": "2019-04-12T07:52:29.855352Z"
    }
   },
   "outputs": [
    {
     "data": {
      "text/html": [
       "<div>\n",
       "<style scoped>\n",
       "    .dataframe tbody tr th:only-of-type {\n",
       "        vertical-align: middle;\n",
       "    }\n",
       "\n",
       "    .dataframe tbody tr th {\n",
       "        vertical-align: top;\n",
       "    }\n",
       "\n",
       "    .dataframe thead th {\n",
       "        text-align: right;\n",
       "    }\n",
       "</style>\n",
       "<table border=\"1\" class=\"dataframe\">\n",
       "  <thead>\n",
       "    <tr style=\"text-align: right;\">\n",
       "      <th>ATTACK SUCCESS</th>\n",
       "      <th>0</th>\n",
       "      <th>1</th>\n",
       "    </tr>\n",
       "    <tr>\n",
       "      <th>MAERSK?</th>\n",
       "      <th></th>\n",
       "      <th></th>\n",
       "    </tr>\n",
       "  </thead>\n",
       "  <tbody>\n",
       "    <tr>\n",
       "      <th>0</th>\n",
       "      <td>240</td>\n",
       "      <td>394</td>\n",
       "    </tr>\n",
       "    <tr>\n",
       "      <th>1</th>\n",
       "      <td>2</td>\n",
       "      <td>5</td>\n",
       "    </tr>\n",
       "  </tbody>\n",
       "</table>\n",
       "</div>"
      ],
      "text/plain": [
       "ATTACK SUCCESS    0    1\n",
       "MAERSK?                 \n",
       "0               240  394\n",
       "1                 2    5"
      ]
     },
     "execution_count": 21,
     "metadata": {},
     "output_type": "execute_result"
    }
   ],
   "source": [
    "pd.crosstab(train_set['MAERSK?'], train_set['ATTACK SUCCESS'])"
   ]
  },
  {
   "cell_type": "markdown",
   "metadata": {},
   "source": [
    "There are very few attacks on Maersk vessels and these are successful in the same proportion as other attacks, we will therefore not use this column."
   ]
  },
  {
   "cell_type": "markdown",
   "metadata": {},
   "source": [
    "## Preprocessing\n",
    "\n",
    "KNN, naive Bayes and SVM require the data to be scaled."
   ]
  },
  {
   "cell_type": "code",
   "execution_count": 22,
   "metadata": {
    "ExecuteTime": {
     "end_time": "2019-04-12T07:52:29.903226Z",
     "start_time": "2019-04-12T07:52:29.886269Z"
    }
   },
   "outputs": [
    {
     "data": {
      "text/plain": [
       "Index(['DATE (LT)', 'REGION', 'COUNTRY', 'VESSEL TYPE', 'MAERSK?',\n",
       "       'VESSEL ACTIVITY LOCATION', 'LAT', 'LONG', 'TIMEZONE', 'TIME OF DAY',\n",
       "       'ATTACK SUCCESS', 'ATTACK HOUR', 'ATTACK MONTH', 'ATTACK WEEKDAY'],\n",
       "      dtype='object')"
      ]
     },
     "execution_count": 22,
     "metadata": {},
     "output_type": "execute_result"
    }
   ],
   "source": [
    "train_set.columns"
   ]
  },
  {
   "cell_type": "code",
   "execution_count": 23,
   "metadata": {
    "ExecuteTime": {
     "end_time": "2019-04-12T07:52:29.950108Z",
     "start_time": "2019-04-12T07:52:29.908211Z"
    }
   },
   "outputs": [
    {
     "data": {
      "text/plain": [
       "((414, 73), (414, 1), (414, 72), (414, 1))"
      ]
     },
     "execution_count": 23,
     "metadata": {},
     "output_type": "execute_result"
    }
   ],
   "source": [
    "# Features selection\n",
    "num_cols_to_keep = []#['LAT', 'LONG']\n",
    "cat_cols_to_keep = ['REGION', 'COUNTRY', 'VESSEL TYPE', 'VESSEL ACTIVITY LOCATION','ATTACK HOUR', 'ATTACK MONTH'] #'ATTACK WEEKDAY'\n",
    "y_col = ['ATTACK SUCCESS']\n",
    "cols_to_keep = num_cols_to_keep + cat_cols_to_keep + y_col\n",
    "\n",
    "# Drop rows with NAs\n",
    "train = train_set[cols_to_keep].dropna()\n",
    "test = test_set[cols_to_keep].dropna()\n",
    "\n",
    "# Preparation of y\n",
    "y_train = train[y_col].values.reshape(-1,1)\n",
    "y_test = test[y_col].values.reshape(-1,1)\n",
    "\n",
    "# Preparation of numeric columns\n",
    "if len(num_cols_to_keep)>0:\n",
    "    X_num_train = train[num_cols_to_keep].values\n",
    "    X_num_test = test[num_cols_to_keep].values\n",
    "    minmax = preprocessing.MinMaxScaler()\n",
    "    X_num_train = minmax.fit_transform(X_num_train)\n",
    "    X_num_test = minmax.transform(X_num_test)\n",
    "else:\n",
    "    X_num_train = np.empty(len(train)).reshape(-1,1)\n",
    "    X_num_test = np.empty(len(test)).reshape(-1,1)\n",
    "    \n",
    "# Preparation of categorical columns\n",
    "X_cat_train = train[cat_cols_to_keep].values\n",
    "X_cat_test = test[cat_cols_to_keep].values\n",
    "onehot = preprocessing.OneHotEncoder(sparse=False)\n",
    "X_cat_train = onehot.fit_transform(X_cat_train)\n",
    "X_cat_test = onehot.transform(X_cat_test)\n",
    "\n",
    "#Concatenation of numeric and categorical \n",
    "X_train = np.concatenate((X_num_train, X_cat_train), axis=1)\n",
    "X_test = np.concatenate((X_num_test, X_cat_test), axis=1)\n",
    "\n",
    "X_train.shape, X_num_train.shape, X_cat_train.shape, y_train.shape"
   ]
  },
  {
   "cell_type": "markdown",
   "metadata": {},
   "source": [
    "## Fit different classifiers\n",
    "### KNN"
   ]
  },
  {
   "cell_type": "code",
   "execution_count": 24,
   "metadata": {
    "ExecuteTime": {
     "end_time": "2019-04-12T07:52:30.040855Z",
     "start_time": "2019-04-12T07:52:29.955096Z"
    }
   },
   "outputs": [
    {
     "name": "stdout",
     "output_type": "stream",
     "text": [
      "              precision    recall  f1-score   support\n",
      "\n",
      "           0       0.70      0.63      0.66       180\n",
      "           1       0.74      0.79      0.76       234\n",
      "\n",
      "   micro avg       0.72      0.72      0.72       414\n",
      "   macro avg       0.72      0.71      0.71       414\n",
      "weighted avg       0.72      0.72      0.72       414\n",
      "\n"
     ]
    }
   ],
   "source": [
    "KNN = neighbors.KNeighborsClassifier(n_neighbors=7)\n",
    "KNN.fit(X_train,y_train.ravel())\n",
    "y_train_pred = KNN.predict(X_train)\n",
    "print(metrics.classification_report(y_train, y_train_pred))"
   ]
  },
  {
   "cell_type": "code",
   "execution_count": 25,
   "metadata": {
    "ExecuteTime": {
     "end_time": "2019-04-12T07:52:30.069779Z",
     "start_time": "2019-04-12T07:52:30.043847Z"
    }
   },
   "outputs": [
    {
     "name": "stdout",
     "output_type": "stream",
     "text": [
      "              precision    recall  f1-score   support\n",
      "\n",
      "           0       0.61      0.57      0.59        47\n",
      "           1       0.73      0.76      0.74        70\n",
      "\n",
      "   micro avg       0.68      0.68      0.68       117\n",
      "   macro avg       0.67      0.67      0.67       117\n",
      "weighted avg       0.68      0.68      0.68       117\n",
      "\n"
     ]
    }
   ],
   "source": [
    "y_test_pred = KNN.predict(X_test)\n",
    "print(metrics.classification_report(y_test, y_test_pred))"
   ]
  },
  {
   "cell_type": "code",
   "execution_count": 26,
   "metadata": {
    "ExecuteTime": {
     "end_time": "2019-04-12T07:52:30.077758Z",
     "start_time": "2019-04-12T07:52:30.072771Z"
    }
   },
   "outputs": [
    {
     "name": "stdout",
     "output_type": "stream",
     "text": [
      "0.6837606837606838\n"
     ]
    }
   ],
   "source": [
    "print(metrics.accuracy_score(y_test, y_test_pred))"
   ]
  },
  {
   "cell_type": "markdown",
   "metadata": {},
   "source": [
    "### Naive Bayes"
   ]
  },
  {
   "cell_type": "code",
   "execution_count": 27,
   "metadata": {
    "ExecuteTime": {
     "end_time": "2019-04-12T07:52:30.119645Z",
     "start_time": "2019-04-12T07:52:30.083740Z"
    }
   },
   "outputs": [
    {
     "name": "stdout",
     "output_type": "stream",
     "text": [
      "              precision    recall  f1-score   support\n",
      "\n",
      "           0       0.60      0.65      0.62       180\n",
      "           1       0.71      0.67      0.69       234\n",
      "\n",
      "   micro avg       0.66      0.66      0.66       414\n",
      "   macro avg       0.66      0.66      0.66       414\n",
      "weighted avg       0.66      0.66      0.66       414\n",
      "\n"
     ]
    }
   ],
   "source": [
    "NB = naive_bayes.BernoulliNB()\n",
    "NB.fit(X_train,y_train.ravel())\n",
    "y_train_pred = NB.predict(X_train)\n",
    "print(metrics.classification_report(y_train, y_train_pred))"
   ]
  },
  {
   "cell_type": "code",
   "execution_count": 28,
   "metadata": {
    "ExecuteTime": {
     "end_time": "2019-04-12T07:52:30.136600Z",
     "start_time": "2019-04-12T07:52:30.122637Z"
    }
   },
   "outputs": [
    {
     "name": "stdout",
     "output_type": "stream",
     "text": [
      "              precision    recall  f1-score   support\n",
      "\n",
      "           0       0.42      0.47      0.44        47\n",
      "           1       0.62      0.57      0.59        70\n",
      "\n",
      "   micro avg       0.53      0.53      0.53       117\n",
      "   macro avg       0.52      0.52      0.52       117\n",
      "weighted avg       0.54      0.53      0.53       117\n",
      "\n"
     ]
    }
   ],
   "source": [
    "y_test_pred = NB.predict(X_test)\n",
    "print(metrics.classification_report(y_test, y_test_pred))"
   ]
  },
  {
   "cell_type": "code",
   "execution_count": 29,
   "metadata": {
    "ExecuteTime": {
     "end_time": "2019-04-12T07:52:30.148567Z",
     "start_time": "2019-04-12T07:52:30.139592Z"
    }
   },
   "outputs": [
    {
     "name": "stdout",
     "output_type": "stream",
     "text": [
      "0.5299145299145299\n"
     ]
    }
   ],
   "source": [
    "print(metrics.accuracy_score(y_test, y_test_pred))"
   ]
  },
  {
   "cell_type": "markdown",
   "metadata": {},
   "source": [
    "### SVM\n",
    "#### Linear SVC (C = 1)"
   ]
  },
  {
   "cell_type": "code",
   "execution_count": 30,
   "metadata": {
    "ExecuteTime": {
     "end_time": "2019-04-12T07:52:30.186466Z",
     "start_time": "2019-04-12T07:52:30.152560Z"
    }
   },
   "outputs": [
    {
     "name": "stdout",
     "output_type": "stream",
     "text": [
      "              precision    recall  f1-score   support\n",
      "\n",
      "           0       0.67      0.63      0.65       180\n",
      "           1       0.73      0.76      0.75       234\n",
      "\n",
      "   micro avg       0.71      0.71      0.71       414\n",
      "   macro avg       0.70      0.70      0.70       414\n",
      "weighted avg       0.70      0.71      0.70       414\n",
      "\n"
     ]
    }
   ],
   "source": [
    "lin_svm = svm.LinearSVC()\n",
    "lin_svm.fit(X_train,y_train.ravel())\n",
    "y_train_pred = lin_svm.predict(X_train)\n",
    "print(metrics.classification_report(y_train, y_train_pred))"
   ]
  },
  {
   "cell_type": "code",
   "execution_count": 31,
   "metadata": {
    "ExecuteTime": {
     "end_time": "2019-04-12T07:52:30.203436Z",
     "start_time": "2019-04-12T07:52:30.190456Z"
    },
    "scrolled": false
   },
   "outputs": [
    {
     "name": "stdout",
     "output_type": "stream",
     "text": [
      "              precision    recall  f1-score   support\n",
      "\n",
      "           0       0.53      0.51      0.52        47\n",
      "           1       0.68      0.70      0.69        70\n",
      "\n",
      "   micro avg       0.62      0.62      0.62       117\n",
      "   macro avg       0.61      0.61      0.61       117\n",
      "weighted avg       0.62      0.62      0.62       117\n",
      "\n"
     ]
    }
   ],
   "source": [
    "y_test_pred = lin_svm.predict(X_test)\n",
    "print(metrics.classification_report(y_test, y_test_pred))"
   ]
  },
  {
   "cell_type": "code",
   "execution_count": 32,
   "metadata": {
    "ExecuteTime": {
     "end_time": "2019-04-12T07:52:30.224365Z",
     "start_time": "2019-04-12T07:52:30.207411Z"
    }
   },
   "outputs": [
    {
     "name": "stdout",
     "output_type": "stream",
     "text": [
      "0.6239316239316239\n"
     ]
    }
   ],
   "source": [
    "print(metrics.accuracy_score(y_test, y_test_pred))"
   ]
  },
  {
   "cell_type": "markdown",
   "metadata": {},
   "source": [
    "#### Linear SVC (C = grid-searched)"
   ]
  },
  {
   "cell_type": "code",
   "execution_count": 33,
   "metadata": {
    "ExecuteTime": {
     "end_time": "2019-04-12T07:52:31.674487Z",
     "start_time": "2019-04-12T07:52:30.232346Z"
    }
   },
   "outputs": [
    {
     "name": "stderr",
     "output_type": "stream",
     "text": [
      "C:\\ProgramData\\Anaconda3\\lib\\site-packages\\sklearn\\model_selection\\_split.py:2053: FutureWarning: You should specify a value for 'cv' instead of relying on the default value. The default value will change from 3 to 5 in version 0.22.\n",
      "  warnings.warn(CV_WARNING, FutureWarning)\n"
     ]
    },
    {
     "data": {
      "text/plain": [
       "LinearSVC(C=0.011090909090909092, class_weight=None, dual=True,\n",
       "     fit_intercept=True, intercept_scaling=1, loss='squared_hinge',\n",
       "     max_iter=1000, multi_class='ovr', penalty='l2', random_state=None,\n",
       "     tol=0.0001, verbose=0)"
      ]
     },
     "execution_count": 33,
     "metadata": {},
     "output_type": "execute_result"
    }
   ],
   "source": [
    "parameters = {'C': np.linspace(0.001, 1, 100)}\n",
    "lin_svm_best = svm.LinearSVC()\n",
    "grid_search = model_selection.GridSearchCV(lin_svm_best, parameters)\n",
    "grid_search.fit(X_train, y_train.ravel())\n",
    "lin_svm_best = grid_search.best_estimator_\n",
    "lin_svm_best"
   ]
  },
  {
   "cell_type": "code",
   "execution_count": 34,
   "metadata": {
    "ExecuteTime": {
     "end_time": "2019-04-12T07:52:31.693436Z",
     "start_time": "2019-04-12T07:52:31.678478Z"
    }
   },
   "outputs": [
    {
     "name": "stdout",
     "output_type": "stream",
     "text": [
      "              precision    recall  f1-score   support\n",
      "\n",
      "           0       0.67      0.53      0.59       180\n",
      "           1       0.69      0.80      0.74       234\n",
      "\n",
      "   micro avg       0.68      0.68      0.68       414\n",
      "   macro avg       0.68      0.67      0.67       414\n",
      "weighted avg       0.68      0.68      0.68       414\n",
      "\n"
     ]
    }
   ],
   "source": [
    "y_train_pred = lin_svm_best.predict(X_train)\n",
    "print(metrics.classification_report(y_train, y_train_pred))"
   ]
  },
  {
   "cell_type": "code",
   "execution_count": 35,
   "metadata": {
    "ExecuteTime": {
     "end_time": "2019-04-12T07:52:31.778232Z",
     "start_time": "2019-04-12T07:52:31.697427Z"
    }
   },
   "outputs": [
    {
     "name": "stdout",
     "output_type": "stream",
     "text": [
      "              precision    recall  f1-score   support\n",
      "\n",
      "           0       0.49      0.40      0.44        47\n",
      "           1       0.64      0.71      0.68        70\n",
      "\n",
      "   micro avg       0.59      0.59      0.59       117\n",
      "   macro avg       0.56      0.56      0.56       117\n",
      "weighted avg       0.58      0.59      0.58       117\n",
      "\n"
     ]
    }
   ],
   "source": [
    "y_test_pred = lin_svm_best.predict(X_test)\n",
    "print(metrics.classification_report(y_test, y_test_pred))"
   ]
  },
  {
   "cell_type": "code",
   "execution_count": 36,
   "metadata": {
    "ExecuteTime": {
     "end_time": "2019-04-12T07:52:31.793169Z",
     "start_time": "2019-04-12T07:52:31.782209Z"
    }
   },
   "outputs": [
    {
     "name": "stdout",
     "output_type": "stream",
     "text": [
      "0.5897435897435898\n"
     ]
    }
   ],
   "source": [
    "print(metrics.accuracy_score(y_test, y_test_pred))"
   ]
  },
  {
   "cell_type": "markdown",
   "metadata": {},
   "source": [
    "#### SVC (grid-searched)"
   ]
  },
  {
   "cell_type": "code",
   "execution_count": 37,
   "metadata": {
    "ExecuteTime": {
     "end_time": "2019-04-12T07:52:34.060106Z",
     "start_time": "2019-04-12T07:52:31.797158Z"
    },
    "scrolled": false
   },
   "outputs": [
    {
     "name": "stderr",
     "output_type": "stream",
     "text": [
      "C:\\ProgramData\\Anaconda3\\lib\\site-packages\\sklearn\\model_selection\\_split.py:2053: FutureWarning: You should specify a value for 'cv' instead of relying on the default value. The default value will change from 3 to 5 in version 0.22.\n",
      "  warnings.warn(CV_WARNING, FutureWarning)\n"
     ]
    },
    {
     "data": {
      "text/plain": [
       "SVC(C=0.667, cache_size=200, class_weight=None, coef0=0.0,\n",
       "  decision_function_shape='ovr', degree=3, gamma='scale', kernel='rbf',\n",
       "  max_iter=-1, probability=False, random_state=None, shrinking=True,\n",
       "  tol=0.001, verbose=False)"
      ]
     },
     "execution_count": 37,
     "metadata": {},
     "output_type": "execute_result"
    }
   ],
   "source": [
    "parameters = {'C': np.linspace(0.001, 1, 10), \n",
    "              'kernel': ['linear', 'poly', 'rbf']}\n",
    "svm_best = svm.SVC(gamma='scale')\n",
    "grid_search = model_selection.GridSearchCV(svm_best, parameters)\n",
    "grid_search.fit(X_train, y_train.ravel())\n",
    "svm_best = grid_search.best_estimator_\n",
    "svm_best"
   ]
  },
  {
   "cell_type": "code",
   "execution_count": 38,
   "metadata": {
    "ExecuteTime": {
     "end_time": "2019-04-12T07:52:34.103989Z",
     "start_time": "2019-04-12T07:52:34.064097Z"
    }
   },
   "outputs": [
    {
     "name": "stdout",
     "output_type": "stream",
     "text": [
      "              precision    recall  f1-score   support\n",
      "\n",
      "           0       0.82      0.58      0.68       180\n",
      "           1       0.74      0.90      0.81       234\n",
      "\n",
      "   micro avg       0.76      0.76      0.76       414\n",
      "   macro avg       0.78      0.74      0.74       414\n",
      "weighted avg       0.77      0.76      0.75       414\n",
      "\n"
     ]
    }
   ],
   "source": [
    "y_train_pred = svm_best.predict(X_train)\n",
    "print(metrics.classification_report(y_train, y_train_pred))"
   ]
  },
  {
   "cell_type": "code",
   "execution_count": 39,
   "metadata": {
    "ExecuteTime": {
     "end_time": "2019-04-12T07:52:34.134911Z",
     "start_time": "2019-04-12T07:52:34.110975Z"
    }
   },
   "outputs": [
    {
     "name": "stdout",
     "output_type": "stream",
     "text": [
      "              precision    recall  f1-score   support\n",
      "\n",
      "           0       0.52      0.36      0.43        47\n",
      "           1       0.64      0.77      0.70        70\n",
      "\n",
      "   micro avg       0.61      0.61      0.61       117\n",
      "   macro avg       0.58      0.57      0.56       117\n",
      "weighted avg       0.59      0.61      0.59       117\n",
      "\n"
     ]
    }
   ],
   "source": [
    "y_test_pred = svm_best.predict(X_test)\n",
    "print(metrics.classification_report(y_test, y_test_pred))"
   ]
  },
  {
   "cell_type": "code",
   "execution_count": 40,
   "metadata": {
    "ExecuteTime": {
     "end_time": "2019-04-12T07:52:34.154855Z",
     "start_time": "2019-04-12T07:52:34.139893Z"
    }
   },
   "outputs": [
    {
     "name": "stdout",
     "output_type": "stream",
     "text": [
      "0.6068376068376068\n"
     ]
    }
   ],
   "source": [
    "print(metrics.accuracy_score(y_test, y_test_pred))"
   ]
  }
 ],
 "metadata": {
  "kernelspec": {
   "display_name": "Python 3",
   "language": "python",
   "name": "python3"
  },
  "language_info": {
   "codemirror_mode": {
    "name": "ipython",
    "version": 3
   },
   "file_extension": ".py",
   "mimetype": "text/x-python",
   "name": "python",
   "nbconvert_exporter": "python",
   "pygments_lexer": "ipython3",
   "version": "3.6.5"
  },
  "toc": {
   "base_numbering": 1,
   "nav_menu": {},
   "number_sections": true,
   "sideBar": true,
   "skip_h1_title": false,
   "title_cell": "Table of Contents",
   "title_sidebar": "Contents",
   "toc_cell": false,
   "toc_position": {
    "height": "calc(100% - 180px)",
    "left": "10px",
    "top": "150px",
    "width": "165px"
   },
   "toc_section_display": true,
   "toc_window_display": true
  },
  "varInspector": {
   "cols": {
    "lenName": 16,
    "lenType": 16,
    "lenVar": 40
   },
   "kernels_config": {
    "python": {
     "delete_cmd_postfix": "",
     "delete_cmd_prefix": "del ",
     "library": "var_list.py",
     "varRefreshCmd": "print(var_dic_list())"
    },
    "r": {
     "delete_cmd_postfix": ") ",
     "delete_cmd_prefix": "rm(",
     "library": "var_list.r",
     "varRefreshCmd": "cat(var_dic_list()) "
    }
   },
   "types_to_exclude": [
    "module",
    "function",
    "builtin_function_or_method",
    "instance",
    "_Feature"
   ],
   "window_display": false
  }
 },
 "nbformat": 4,
 "nbformat_minor": 2
}
